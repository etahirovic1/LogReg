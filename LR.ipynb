{
 "cells": [
  {
   "cell_type": "code",
   "execution_count": null,
   "id": "5715d471",
   "metadata": {},
   "outputs": [],
   "source": [
    "# watch this video\n",
    "\n",
    "# https://www.youtube.com/watch?v=L9BLLWRtnOU"
   ]
  },
  {
   "cell_type": "code",
   "execution_count": 46,
   "id": "12e0caf7",
   "metadata": {},
   "outputs": [],
   "source": [
    "# import necessary libraries\n",
    "import pandas as pd\n",
    "import numpy as np\n",
    "import seaborn as sns\n",
    "import matplotlib.pyplot as plt"
   ]
  },
  {
   "cell_type": "code",
   "execution_count": 75,
   "id": "f40b0e74",
   "metadata": {},
   "outputs": [],
   "source": [
    "df = pd.read_csv('/Users/emina/Downloads/heart.csv', sep=',')"
   ]
  },
  {
   "cell_type": "markdown",
   "id": "cdbbe8c4",
   "metadata": {},
   "source": [
    "# Describe dataset"
   ]
  },
  {
   "cell_type": "code",
   "execution_count": 48,
   "id": "7d2d39ba",
   "metadata": {},
   "outputs": [
    {
     "data": {
      "text/html": [
       "<div>\n",
       "<style scoped>\n",
       "    .dataframe tbody tr th:only-of-type {\n",
       "        vertical-align: middle;\n",
       "    }\n",
       "\n",
       "    .dataframe tbody tr th {\n",
       "        vertical-align: top;\n",
       "    }\n",
       "\n",
       "    .dataframe thead th {\n",
       "        text-align: right;\n",
       "    }\n",
       "</style>\n",
       "<table border=\"1\" class=\"dataframe\">\n",
       "  <thead>\n",
       "    <tr style=\"text-align: right;\">\n",
       "      <th></th>\n",
       "      <th>age</th>\n",
       "      <th>sex</th>\n",
       "      <th>cp</th>\n",
       "      <th>trestbps</th>\n",
       "      <th>chol</th>\n",
       "      <th>fbs</th>\n",
       "      <th>restecg</th>\n",
       "      <th>thalach</th>\n",
       "      <th>exang</th>\n",
       "      <th>oldpeak</th>\n",
       "      <th>slope</th>\n",
       "      <th>ca</th>\n",
       "      <th>thal</th>\n",
       "      <th>target</th>\n",
       "    </tr>\n",
       "  </thead>\n",
       "  <tbody>\n",
       "    <tr>\n",
       "      <th>0</th>\n",
       "      <td>63</td>\n",
       "      <td>1</td>\n",
       "      <td>3</td>\n",
       "      <td>145</td>\n",
       "      <td>233</td>\n",
       "      <td>1</td>\n",
       "      <td>0</td>\n",
       "      <td>150</td>\n",
       "      <td>0</td>\n",
       "      <td>2.3</td>\n",
       "      <td>0</td>\n",
       "      <td>0</td>\n",
       "      <td>1</td>\n",
       "      <td>1</td>\n",
       "    </tr>\n",
       "    <tr>\n",
       "      <th>1</th>\n",
       "      <td>37</td>\n",
       "      <td>1</td>\n",
       "      <td>2</td>\n",
       "      <td>130</td>\n",
       "      <td>250</td>\n",
       "      <td>0</td>\n",
       "      <td>1</td>\n",
       "      <td>187</td>\n",
       "      <td>0</td>\n",
       "      <td>3.5</td>\n",
       "      <td>0</td>\n",
       "      <td>0</td>\n",
       "      <td>2</td>\n",
       "      <td>1</td>\n",
       "    </tr>\n",
       "    <tr>\n",
       "      <th>2</th>\n",
       "      <td>41</td>\n",
       "      <td>0</td>\n",
       "      <td>1</td>\n",
       "      <td>130</td>\n",
       "      <td>204</td>\n",
       "      <td>0</td>\n",
       "      <td>0</td>\n",
       "      <td>172</td>\n",
       "      <td>0</td>\n",
       "      <td>1.4</td>\n",
       "      <td>2</td>\n",
       "      <td>0</td>\n",
       "      <td>2</td>\n",
       "      <td>1</td>\n",
       "    </tr>\n",
       "    <tr>\n",
       "      <th>3</th>\n",
       "      <td>56</td>\n",
       "      <td>1</td>\n",
       "      <td>1</td>\n",
       "      <td>120</td>\n",
       "      <td>236</td>\n",
       "      <td>0</td>\n",
       "      <td>1</td>\n",
       "      <td>178</td>\n",
       "      <td>0</td>\n",
       "      <td>0.8</td>\n",
       "      <td>2</td>\n",
       "      <td>0</td>\n",
       "      <td>2</td>\n",
       "      <td>1</td>\n",
       "    </tr>\n",
       "    <tr>\n",
       "      <th>4</th>\n",
       "      <td>57</td>\n",
       "      <td>0</td>\n",
       "      <td>0</td>\n",
       "      <td>120</td>\n",
       "      <td>354</td>\n",
       "      <td>0</td>\n",
       "      <td>1</td>\n",
       "      <td>163</td>\n",
       "      <td>1</td>\n",
       "      <td>0.6</td>\n",
       "      <td>2</td>\n",
       "      <td>0</td>\n",
       "      <td>2</td>\n",
       "      <td>1</td>\n",
       "    </tr>\n",
       "  </tbody>\n",
       "</table>\n",
       "</div>"
      ],
      "text/plain": [
       "   age  sex  cp  trestbps  chol  fbs  restecg  thalach  exang  oldpeak  slope  \\\n",
       "0   63    1   3       145   233    1        0      150      0      2.3      0   \n",
       "1   37    1   2       130   250    0        1      187      0      3.5      0   \n",
       "2   41    0   1       130   204    0        0      172      0      1.4      2   \n",
       "3   56    1   1       120   236    0        1      178      0      0.8      2   \n",
       "4   57    0   0       120   354    0        1      163      1      0.6      2   \n",
       "\n",
       "   ca  thal  target  \n",
       "0   0     1       1  \n",
       "1   0     2       1  \n",
       "2   0     2       1  \n",
       "3   0     2       1  \n",
       "4   0     2       1  "
      ]
     },
     "execution_count": 48,
     "metadata": {},
     "output_type": "execute_result"
    }
   ],
   "source": [
    "df.head(5)"
   ]
  },
  {
   "cell_type": "code",
   "execution_count": 49,
   "id": "adef0ca8",
   "metadata": {},
   "outputs": [
    {
     "name": "stdout",
     "output_type": "stream",
     "text": [
      "<class 'pandas.core.frame.DataFrame'>\n",
      "RangeIndex: 303 entries, 0 to 302\n",
      "Data columns (total 14 columns):\n",
      " #   Column    Non-Null Count  Dtype  \n",
      "---  ------    --------------  -----  \n",
      " 0   age       303 non-null    int64  \n",
      " 1   sex       303 non-null    int64  \n",
      " 2   cp        303 non-null    int64  \n",
      " 3   trestbps  303 non-null    int64  \n",
      " 4   chol      303 non-null    int64  \n",
      " 5   fbs       303 non-null    int64  \n",
      " 6   restecg   303 non-null    int64  \n",
      " 7   thalach   303 non-null    int64  \n",
      " 8   exang     303 non-null    int64  \n",
      " 9   oldpeak   303 non-null    float64\n",
      " 10  slope     303 non-null    int64  \n",
      " 11  ca        303 non-null    int64  \n",
      " 12  thal      303 non-null    int64  \n",
      " 13  target    303 non-null    int64  \n",
      "dtypes: float64(1), int64(13)\n",
      "memory usage: 33.3 KB\n"
     ]
    }
   ],
   "source": [
    "df.info()"
   ]
  },
  {
   "cell_type": "code",
   "execution_count": 50,
   "id": "9aa53d4a",
   "metadata": {},
   "outputs": [
    {
     "data": {
      "text/plain": [
       "age         0\n",
       "sex         0\n",
       "cp          0\n",
       "trestbps    0\n",
       "chol        0\n",
       "fbs         0\n",
       "restecg     0\n",
       "thalach     0\n",
       "exang       0\n",
       "oldpeak     0\n",
       "slope       0\n",
       "ca          0\n",
       "thal        0\n",
       "target      0\n",
       "dtype: int64"
      ]
     },
     "execution_count": 50,
     "metadata": {},
     "output_type": "execute_result"
    }
   ],
   "source": [
    "df.isnull().sum()"
   ]
  },
  {
   "cell_type": "markdown",
   "id": "ca8b941f",
   "metadata": {},
   "source": [
    "# Possible preprocessing steps"
   ]
  },
  {
   "cell_type": "code",
   "execution_count": 51,
   "id": "120f0644",
   "metadata": {},
   "outputs": [],
   "source": [
    "# df['classes'] = df['classes'].map({4:1, 2:0})"
   ]
  },
  {
   "cell_type": "code",
   "execution_count": 52,
   "id": "c2d77e1d",
   "metadata": {},
   "outputs": [],
   "source": [
    "# df.drop('id',axis=1,inplace=True)\n",
    "# df.drop('Unnamed: 32',axis=1,inplace=True)"
   ]
  },
  {
   "cell_type": "code",
   "execution_count": 53,
   "id": "b6200f2e",
   "metadata": {},
   "outputs": [],
   "source": [
    "# data[['Glucose','BloodPressure','SkinThickness','Insulin','BMI']] = data[['Glucose','BloodPressure','SkinThickness','Insulin','BMI']].replace(0,np.NaN)"
   ]
  },
  {
   "cell_type": "code",
   "execution_count": 54,
   "id": "919f6998",
   "metadata": {},
   "outputs": [],
   "source": [
    "#def median_target(var):   \n",
    "#    temp = data[data[var].notnull()]\n",
    "#    temp = temp[[var, 'Outcome']].groupby(['Outcome'])[[var]].median().reset_index()\n",
    "#    return temp"
   ]
  },
  {
   "cell_type": "code",
   "execution_count": 55,
   "id": "9814fb58",
   "metadata": {},
   "outputs": [],
   "source": [
    "# df = df[df.isnull()==True]\n",
    "# df['Age'] = df['Age'].interpolate()\n",
    "# df = df.dropna()"
   ]
  },
  {
   "cell_type": "markdown",
   "id": "b6ec0026",
   "metadata": {},
   "source": [
    "# Prepare libraries and split into predictors and target"
   ]
  },
  {
   "cell_type": "code",
   "execution_count": 76,
   "id": "46c216a8",
   "metadata": {},
   "outputs": [],
   "source": [
    "# from sklearn.datasets import make_classification\n",
    "from sklearn.linear_model import LogisticRegression\n",
    "from sklearn.model_selection import train_test_split\n",
    "from sklearn.preprocessing import StandardScaler\n",
    "from sklearn.model_selection import StratifiedKFold\n",
    "from sklearn.model_selection import GridSearchCV\n",
    "from sklearn.metrics import accuracy_score, precision_score, recall_score, f1_score"
   ]
  },
  {
   "cell_type": "code",
   "execution_count": 77,
   "id": "810fbc1b",
   "metadata": {},
   "outputs": [],
   "source": [
    "X = df.drop(['target'], axis=1)\n",
    "y = df['target']"
   ]
  },
  {
   "cell_type": "markdown",
   "id": "98456a0e",
   "metadata": {},
   "source": [
    "# Feature Selection"
   ]
  },
  {
   "cell_type": "code",
   "execution_count": 78,
   "id": "25cc4ad8",
   "metadata": {},
   "outputs": [],
   "source": [
    "from sklearn.feature_selection import SelectKBest, chi2, f_regression\n",
    "\n",
    "fs = SelectKBest(score_func=chi2, k=6)\n",
    "X_kbest = fs.fit_transform(X, y)\n",
    "columns = list(X.columns[fs.get_support(indices=True)])\n",
    "\n",
    "X = pd.DataFrame(X_kbest)\n",
    "X.columns = columns"
   ]
  },
  {
   "cell_type": "code",
   "execution_count": 79,
   "id": "9178860e",
   "metadata": {},
   "outputs": [
    {
     "data": {
      "text/html": [
       "<div>\n",
       "<style scoped>\n",
       "    .dataframe tbody tr th:only-of-type {\n",
       "        vertical-align: middle;\n",
       "    }\n",
       "\n",
       "    .dataframe tbody tr th {\n",
       "        vertical-align: top;\n",
       "    }\n",
       "\n",
       "    .dataframe thead th {\n",
       "        text-align: right;\n",
       "    }\n",
       "</style>\n",
       "<table border=\"1\" class=\"dataframe\">\n",
       "  <thead>\n",
       "    <tr style=\"text-align: right;\">\n",
       "      <th></th>\n",
       "      <th>cp</th>\n",
       "      <th>chol</th>\n",
       "      <th>thalach</th>\n",
       "      <th>exang</th>\n",
       "      <th>oldpeak</th>\n",
       "      <th>ca</th>\n",
       "    </tr>\n",
       "  </thead>\n",
       "  <tbody>\n",
       "    <tr>\n",
       "      <th>0</th>\n",
       "      <td>3.0</td>\n",
       "      <td>233.0</td>\n",
       "      <td>150.0</td>\n",
       "      <td>0.0</td>\n",
       "      <td>2.3</td>\n",
       "      <td>0.0</td>\n",
       "    </tr>\n",
       "    <tr>\n",
       "      <th>1</th>\n",
       "      <td>2.0</td>\n",
       "      <td>250.0</td>\n",
       "      <td>187.0</td>\n",
       "      <td>0.0</td>\n",
       "      <td>3.5</td>\n",
       "      <td>0.0</td>\n",
       "    </tr>\n",
       "    <tr>\n",
       "      <th>2</th>\n",
       "      <td>1.0</td>\n",
       "      <td>204.0</td>\n",
       "      <td>172.0</td>\n",
       "      <td>0.0</td>\n",
       "      <td>1.4</td>\n",
       "      <td>0.0</td>\n",
       "    </tr>\n",
       "    <tr>\n",
       "      <th>3</th>\n",
       "      <td>1.0</td>\n",
       "      <td>236.0</td>\n",
       "      <td>178.0</td>\n",
       "      <td>0.0</td>\n",
       "      <td>0.8</td>\n",
       "      <td>0.0</td>\n",
       "    </tr>\n",
       "    <tr>\n",
       "      <th>4</th>\n",
       "      <td>0.0</td>\n",
       "      <td>354.0</td>\n",
       "      <td>163.0</td>\n",
       "      <td>1.0</td>\n",
       "      <td>0.6</td>\n",
       "      <td>0.0</td>\n",
       "    </tr>\n",
       "    <tr>\n",
       "      <th>...</th>\n",
       "      <td>...</td>\n",
       "      <td>...</td>\n",
       "      <td>...</td>\n",
       "      <td>...</td>\n",
       "      <td>...</td>\n",
       "      <td>...</td>\n",
       "    </tr>\n",
       "    <tr>\n",
       "      <th>298</th>\n",
       "      <td>0.0</td>\n",
       "      <td>241.0</td>\n",
       "      <td>123.0</td>\n",
       "      <td>1.0</td>\n",
       "      <td>0.2</td>\n",
       "      <td>0.0</td>\n",
       "    </tr>\n",
       "    <tr>\n",
       "      <th>299</th>\n",
       "      <td>3.0</td>\n",
       "      <td>264.0</td>\n",
       "      <td>132.0</td>\n",
       "      <td>0.0</td>\n",
       "      <td>1.2</td>\n",
       "      <td>0.0</td>\n",
       "    </tr>\n",
       "    <tr>\n",
       "      <th>300</th>\n",
       "      <td>0.0</td>\n",
       "      <td>193.0</td>\n",
       "      <td>141.0</td>\n",
       "      <td>0.0</td>\n",
       "      <td>3.4</td>\n",
       "      <td>2.0</td>\n",
       "    </tr>\n",
       "    <tr>\n",
       "      <th>301</th>\n",
       "      <td>0.0</td>\n",
       "      <td>131.0</td>\n",
       "      <td>115.0</td>\n",
       "      <td>1.0</td>\n",
       "      <td>1.2</td>\n",
       "      <td>1.0</td>\n",
       "    </tr>\n",
       "    <tr>\n",
       "      <th>302</th>\n",
       "      <td>1.0</td>\n",
       "      <td>236.0</td>\n",
       "      <td>174.0</td>\n",
       "      <td>0.0</td>\n",
       "      <td>0.0</td>\n",
       "      <td>1.0</td>\n",
       "    </tr>\n",
       "  </tbody>\n",
       "</table>\n",
       "<p>303 rows × 6 columns</p>\n",
       "</div>"
      ],
      "text/plain": [
       "      cp   chol  thalach  exang  oldpeak   ca\n",
       "0    3.0  233.0    150.0    0.0      2.3  0.0\n",
       "1    2.0  250.0    187.0    0.0      3.5  0.0\n",
       "2    1.0  204.0    172.0    0.0      1.4  0.0\n",
       "3    1.0  236.0    178.0    0.0      0.8  0.0\n",
       "4    0.0  354.0    163.0    1.0      0.6  0.0\n",
       "..   ...    ...      ...    ...      ...  ...\n",
       "298  0.0  241.0    123.0    1.0      0.2  0.0\n",
       "299  3.0  264.0    132.0    0.0      1.2  0.0\n",
       "300  0.0  193.0    141.0    0.0      3.4  2.0\n",
       "301  0.0  131.0    115.0    1.0      1.2  1.0\n",
       "302  1.0  236.0    174.0    0.0      0.0  1.0\n",
       "\n",
       "[303 rows x 6 columns]"
      ]
     },
     "execution_count": 79,
     "metadata": {},
     "output_type": "execute_result"
    }
   ],
   "source": [
    "X"
   ]
  },
  {
   "cell_type": "markdown",
   "id": "2b46b665",
   "metadata": {},
   "source": [
    "# Hyperparameter tuning with GridCV"
   ]
  },
  {
   "cell_type": "code",
   "execution_count": 81,
   "id": "21b63c30",
   "metadata": {},
   "outputs": [],
   "source": [
    "model = LogisticRegression()\n",
    "solvers = ['newton-cg', 'lbfgs', 'liblinear']\n",
    "penalty = ['l2']\n",
    "c_values = [100, 10, 1.0, 0.1, 0.01]\n",
    "test_sizes = [0.2, 0.25, 0.3, 0.35, 0.4]\n",
    "best_score = 0\n",
    "best_size = test_sizes[0]\n",
    "best_params = []"
   ]
  },
  {
   "cell_type": "code",
   "execution_count": 83,
   "id": "61d504b0",
   "metadata": {},
   "outputs": [
    {
     "name": "stdout",
     "output_type": "stream",
     "text": [
      "\n",
      "Test size:  0.2\n",
      "Best: 0.815556 using {'C': 0.01, 'penalty': 'l2', 'solver': 'newton-cg'}\n",
      "0.811389 (0.090504) with: {'C': 100, 'penalty': 'l2', 'solver': 'newton-cg'}\n",
      "0.811389 (0.090504) with: {'C': 100, 'penalty': 'l2', 'solver': 'lbfgs'}\n",
      "0.811389 (0.090504) with: {'C': 100, 'penalty': 'l2', 'solver': 'liblinear'}\n",
      "0.811389 (0.090504) with: {'C': 10, 'penalty': 'l2', 'solver': 'newton-cg'}\n",
      "0.811389 (0.090504) with: {'C': 10, 'penalty': 'l2', 'solver': 'lbfgs'}\n",
      "0.811389 (0.090504) with: {'C': 10, 'penalty': 'l2', 'solver': 'liblinear'}\n",
      "0.810000 (0.090476) with: {'C': 1.0, 'penalty': 'l2', 'solver': 'newton-cg'}\n",
      "0.810000 (0.090476) with: {'C': 1.0, 'penalty': 'l2', 'solver': 'lbfgs'}\n",
      "0.810000 (0.090476) with: {'C': 1.0, 'penalty': 'l2', 'solver': 'liblinear'}\n",
      "0.808667 (0.094602) with: {'C': 0.1, 'penalty': 'l2', 'solver': 'newton-cg'}\n",
      "0.808667 (0.094602) with: {'C': 0.1, 'penalty': 'l2', 'solver': 'lbfgs'}\n",
      "0.814111 (0.090707) with: {'C': 0.1, 'penalty': 'l2', 'solver': 'liblinear'}\n",
      "0.815556 (0.093700) with: {'C': 0.01, 'penalty': 'l2', 'solver': 'newton-cg'}\n",
      "0.815556 (0.093700) with: {'C': 0.01, 'penalty': 'l2', 'solver': 'lbfgs'}\n",
      "0.812722 (0.093663) with: {'C': 0.01, 'penalty': 'l2', 'solver': 'liblinear'}\n",
      "\n",
      "Test size:  0.25\n",
      "Best: 0.819433 using {'C': 0.01, 'penalty': 'l2', 'solver': 'liblinear'}\n",
      "0.811001 (0.067233) with: {'C': 100, 'penalty': 'l2', 'solver': 'newton-cg'}\n",
      "0.811001 (0.067233) with: {'C': 100, 'penalty': 'l2', 'solver': 'lbfgs'}\n",
      "0.811001 (0.067233) with: {'C': 100, 'penalty': 'l2', 'solver': 'liblinear'}\n",
      "0.811001 (0.067233) with: {'C': 10, 'penalty': 'l2', 'solver': 'newton-cg'}\n",
      "0.811001 (0.067233) with: {'C': 10, 'penalty': 'l2', 'solver': 'lbfgs'}\n",
      "0.811001 (0.067233) with: {'C': 10, 'penalty': 'l2', 'solver': 'liblinear'}\n",
      "0.814032 (0.071454) with: {'C': 1.0, 'penalty': 'l2', 'solver': 'newton-cg'}\n",
      "0.814032 (0.071454) with: {'C': 1.0, 'penalty': 'l2', 'solver': 'lbfgs'}\n",
      "0.814032 (0.071454) with: {'C': 1.0, 'penalty': 'l2', 'solver': 'liblinear'}\n",
      "0.815283 (0.062805) with: {'C': 0.1, 'penalty': 'l2', 'solver': 'newton-cg'}\n",
      "0.815283 (0.062805) with: {'C': 0.1, 'penalty': 'l2', 'solver': 'lbfgs'}\n",
      "0.813768 (0.063263) with: {'C': 0.1, 'penalty': 'l2', 'solver': 'liblinear'}\n",
      "0.810804 (0.062757) with: {'C': 0.01, 'penalty': 'l2', 'solver': 'newton-cg'}\n",
      "0.810804 (0.062757) with: {'C': 0.01, 'penalty': 'l2', 'solver': 'lbfgs'}\n",
      "0.819433 (0.067348) with: {'C': 0.01, 'penalty': 'l2', 'solver': 'liblinear'}\n",
      "\n",
      "Test size:  0.3\n",
      "Best: 0.833838 using {'C': 0.1, 'penalty': 'l2', 'solver': 'liblinear'}\n",
      "0.832323 (0.079564) with: {'C': 100, 'penalty': 'l2', 'solver': 'newton-cg'}\n",
      "0.832323 (0.079564) with: {'C': 100, 'penalty': 'l2', 'solver': 'lbfgs'}\n",
      "0.832323 (0.079564) with: {'C': 100, 'penalty': 'l2', 'solver': 'liblinear'}\n",
      "0.832323 (0.079564) with: {'C': 10, 'penalty': 'l2', 'solver': 'newton-cg'}\n",
      "0.832323 (0.079564) with: {'C': 10, 'penalty': 'l2', 'solver': 'lbfgs'}\n",
      "0.832323 (0.079564) with: {'C': 10, 'penalty': 'l2', 'solver': 'liblinear'}\n",
      "0.832323 (0.076661) with: {'C': 1.0, 'penalty': 'l2', 'solver': 'newton-cg'}\n",
      "0.832323 (0.076661) with: {'C': 1.0, 'penalty': 'l2', 'solver': 'lbfgs'}\n",
      "0.832323 (0.076661) with: {'C': 1.0, 'penalty': 'l2', 'solver': 'liblinear'}\n",
      "0.829221 (0.080099) with: {'C': 0.1, 'penalty': 'l2', 'solver': 'newton-cg'}\n",
      "0.829221 (0.080099) with: {'C': 0.1, 'penalty': 'l2', 'solver': 'lbfgs'}\n",
      "0.833838 (0.081834) with: {'C': 0.1, 'penalty': 'l2', 'solver': 'liblinear'}\n",
      "0.818254 (0.091652) with: {'C': 0.01, 'penalty': 'l2', 'solver': 'newton-cg'}\n",
      "0.818254 (0.091652) with: {'C': 0.01, 'penalty': 'l2', 'solver': 'lbfgs'}\n",
      "0.816595 (0.093055) with: {'C': 0.01, 'penalty': 'l2', 'solver': 'liblinear'}\n",
      "\n",
      "Test size:  0.35\n",
      "Best: 0.829298 using {'C': 100, 'penalty': 'l2', 'solver': 'newton-cg'}\n",
      "0.829298 (0.074763) with: {'C': 100, 'penalty': 'l2', 'solver': 'newton-cg'}\n",
      "0.829298 (0.074763) with: {'C': 100, 'penalty': 'l2', 'solver': 'lbfgs'}\n",
      "0.829298 (0.074763) with: {'C': 100, 'penalty': 'l2', 'solver': 'liblinear'}\n",
      "0.829298 (0.074763) with: {'C': 10, 'penalty': 'l2', 'solver': 'newton-cg'}\n",
      "0.829298 (0.074763) with: {'C': 10, 'penalty': 'l2', 'solver': 'lbfgs'}\n",
      "0.829298 (0.074763) with: {'C': 10, 'penalty': 'l2', 'solver': 'liblinear'}\n",
      "0.827544 (0.078662) with: {'C': 1.0, 'penalty': 'l2', 'solver': 'newton-cg'}\n",
      "0.827544 (0.078662) with: {'C': 1.0, 'penalty': 'l2', 'solver': 'lbfgs'}\n",
      "0.829298 (0.077193) with: {'C': 1.0, 'penalty': 'l2', 'solver': 'liblinear'}\n",
      "0.826053 (0.075023) with: {'C': 0.1, 'penalty': 'l2', 'solver': 'newton-cg'}\n",
      "0.826053 (0.075023) with: {'C': 0.1, 'penalty': 'l2', 'solver': 'lbfgs'}\n",
      "0.826228 (0.072971) with: {'C': 0.1, 'penalty': 'l2', 'solver': 'liblinear'}\n",
      "0.812281 (0.064993) with: {'C': 0.01, 'penalty': 'l2', 'solver': 'newton-cg'}\n",
      "0.812281 (0.064993) with: {'C': 0.01, 'penalty': 'l2', 'solver': 'lbfgs'}\n",
      "0.819298 (0.071242) with: {'C': 0.01, 'penalty': 'l2', 'solver': 'liblinear'}\n",
      "\n",
      "Test size:  0.4\n",
      "Best: 0.847466 using {'C': 1.0, 'penalty': 'l2', 'solver': 'liblinear'}\n",
      "0.845614 (0.090033) with: {'C': 100, 'penalty': 'l2', 'solver': 'newton-cg'}\n",
      "0.845614 (0.090033) with: {'C': 100, 'penalty': 'l2', 'solver': 'lbfgs'}\n",
      "0.845614 (0.090033) with: {'C': 100, 'penalty': 'l2', 'solver': 'liblinear'}\n",
      "0.845614 (0.090033) with: {'C': 10, 'penalty': 'l2', 'solver': 'newton-cg'}\n",
      "0.845614 (0.090033) with: {'C': 10, 'penalty': 'l2', 'solver': 'lbfgs'}\n",
      "0.845614 (0.090033) with: {'C': 10, 'penalty': 'l2', 'solver': 'liblinear'}\n",
      "0.845712 (0.091823) with: {'C': 1.0, 'penalty': 'l2', 'solver': 'newton-cg'}\n",
      "0.845712 (0.091823) with: {'C': 1.0, 'penalty': 'l2', 'solver': 'lbfgs'}\n",
      "0.847466 (0.089186) with: {'C': 1.0, 'penalty': 'l2', 'solver': 'liblinear'}\n",
      "0.838304 (0.092520) with: {'C': 0.1, 'penalty': 'l2', 'solver': 'newton-cg'}\n",
      "0.838304 (0.092520) with: {'C': 0.1, 'penalty': 'l2', 'solver': 'lbfgs'}\n",
      "0.842008 (0.087672) with: {'C': 0.1, 'penalty': 'l2', 'solver': 'liblinear'}\n",
      "0.823294 (0.093661) with: {'C': 0.01, 'penalty': 'l2', 'solver': 'newton-cg'}\n",
      "0.823294 (0.093661) with: {'C': 0.01, 'penalty': 'l2', 'solver': 'lbfgs'}\n",
      "0.819981 (0.088356) with: {'C': 0.01, 'penalty': 'l2', 'solver': 'liblinear'}\n",
      "Best score and test size: (0.847465886939571, 0.4)\n"
     ]
    }
   ],
   "source": [
    "for ts in test_sizes:\n",
    "    \n",
    "    print('\\nTest size: ', ts)\n",
    "    X_train, X_test, y_train, y_test = train_test_split(X, y, test_size=ts, random_state=0)\n",
    "    ss = StandardScaler()\n",
    "    X_train = ss.fit_transform(X_train)\n",
    "    X_test = ss.fit_transform(X_test)\n",
    "    \n",
    "    # define grid search\n",
    "    grid = dict(solver=solvers, penalty=penalty, C=c_values)\n",
    "\n",
    "    cv = RepeatedStratifiedKFold(n_splits=10, n_repeats=3, random_state=1)\n",
    "    grid_search = GridSearchCV(estimator=model, param_grid=grid, n_jobs=-1, cv=cv, scoring='accuracy', error_score=0)\n",
    "    grid_result = grid_search.fit(X_train, y_train)\n",
    "    \n",
    "    # summarize results\n",
    "    print(\"Best: %f using %s\" % (grid_result.best_score_, grid_result.best_params_))\n",
    "    means = grid_result.cv_results_['mean_test_score']\n",
    "    stds = grid_result.cv_results_['std_test_score']\n",
    "    params = grid_result.cv_results_['params']\n",
    "    for mean, stdev, param in zip(means, stds, params):\n",
    "        print(\"%f (%f) with: %r\" % (mean, stdev, param))\n",
    "        if mean > best_score:\n",
    "            best_score = mean\n",
    "            best_size = ts\n",
    "            best_params = grid_result.best_params_\n",
    "\n",
    "print('Best score and test size: (' + str(best_score) + ', ' + str(best_size) + ')' )"
   ]
  },
  {
   "cell_type": "markdown",
   "id": "7915cf0d",
   "metadata": {},
   "source": [
    "# Testing model performance"
   ]
  },
  {
   "cell_type": "code",
   "execution_count": 84,
   "id": "47eb283f",
   "metadata": {},
   "outputs": [],
   "source": [
    "results_LR = pd.DataFrame([], columns=['Model', 'Accuracy', 'Precision', 'Recall', 'F1 Score'])"
   ]
  },
  {
   "cell_type": "code",
   "execution_count": 85,
   "id": "3f71f5f7",
   "metadata": {},
   "outputs": [
    {
     "data": {
      "text/html": [
       "<div>\n",
       "<style scoped>\n",
       "    .dataframe tbody tr th:only-of-type {\n",
       "        vertical-align: middle;\n",
       "    }\n",
       "\n",
       "    .dataframe tbody tr th {\n",
       "        vertical-align: top;\n",
       "    }\n",
       "\n",
       "    .dataframe thead th {\n",
       "        text-align: right;\n",
       "    }\n",
       "</style>\n",
       "<table border=\"1\" class=\"dataframe\">\n",
       "  <thead>\n",
       "    <tr style=\"text-align: right;\">\n",
       "      <th></th>\n",
       "      <th>Model</th>\n",
       "      <th>Train set acc.</th>\n",
       "      <th>Test set acc.</th>\n",
       "      <th>Precision</th>\n",
       "      <th>Recall</th>\n",
       "      <th>F1 Score</th>\n",
       "    </tr>\n",
       "  </thead>\n",
       "  <tbody>\n",
       "    <tr>\n",
       "      <th>0</th>\n",
       "      <td>Logistic Regression</td>\n",
       "      <td>0.867403</td>\n",
       "      <td>0.770492</td>\n",
       "      <td>0.739726</td>\n",
       "      <td>0.857143</td>\n",
       "      <td>0.794118</td>\n",
       "    </tr>\n",
       "  </tbody>\n",
       "</table>\n",
       "</div>"
      ],
      "text/plain": [
       "                 Model  Train set acc.  Test set acc.  Precision    Recall  \\\n",
       "0  Logistic Regression        0.867403       0.770492   0.739726  0.857143   \n",
       "\n",
       "   F1 Score  \n",
       "0  0.794118  "
      ]
     },
     "execution_count": 85,
     "metadata": {},
     "output_type": "execute_result"
    }
   ],
   "source": [
    "# make classifier and train model\n",
    "classifier = LogisticRegression(random_state=0, penalty=best_params.get('penalty'), solver=best_params.get('solver'), C=best_params.get('C'))\n",
    "model = classifier.fit(X_train, y_train)\n",
    "y_pred = model.predict(X_test)\n",
    "\n",
    "# calculate accuracy on train set\n",
    "y_pred_train = classifier.predict(X_train)\n",
    "acc_train = accuracy_score(y_train, y_pred_train)\n",
    "\n",
    "# calculate scores on test set\n",
    "acc = accuracy_score(y_test, y_pred)\n",
    "prec = precision_score(y_test, y_pred)\n",
    "rec = recall_score(y_test, y_pred)\n",
    "f1 = f1_score(y_test, y_pred)\n",
    "\n",
    "# record the results\n",
    "model_results = pd.DataFrame([['Logistic Regression', acc_train, acc, prec, rec, f1]],\n",
    "               columns = ['Model', 'Train set acc.', 'Test set acc.', 'Precision', 'Recall', 'F1 Score'])\n",
    "results_LR = results_LR.append(model_results, ignore_index = True)\n",
    "\n",
    "model_results"
   ]
  },
  {
   "cell_type": "markdown",
   "id": "c243282b",
   "metadata": {},
   "source": [
    "# Cross-validation"
   ]
  },
  {
   "cell_type": "code",
   "execution_count": 90,
   "id": "81546ae1",
   "metadata": {},
   "outputs": [
    {
     "name": "stdout",
     "output_type": "stream",
     "text": [
      "Accuracy: 0.808 (0.071)\n"
     ]
    }
   ],
   "source": [
    "from sklearn.model_selection import cross_val_score\n",
    "from numpy import mean\n",
    "from numpy import std\n",
    "\n",
    "scores = cross_val_score(model, X, y, scoring='accuracy', cv=cv, n_jobs=-1)\n",
    "print('Accuracy: %.3f (%.3f)' % (mean(scores), std(scores)))"
   ]
  },
  {
   "cell_type": "code",
   "execution_count": null,
   "id": "0cb692cc",
   "metadata": {},
   "outputs": [],
   "source": []
  }
 ],
 "metadata": {
  "kernelspec": {
   "display_name": "Python 3 (ipykernel)",
   "language": "python",
   "name": "python3"
  },
  "language_info": {
   "codemirror_mode": {
    "name": "ipython",
    "version": 3
   },
   "file_extension": ".py",
   "mimetype": "text/x-python",
   "name": "python",
   "nbconvert_exporter": "python",
   "pygments_lexer": "ipython3",
   "version": "3.9.7"
  }
 },
 "nbformat": 4,
 "nbformat_minor": 5
}
